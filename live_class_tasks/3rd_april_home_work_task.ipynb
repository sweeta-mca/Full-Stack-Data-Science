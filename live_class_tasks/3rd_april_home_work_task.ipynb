{
 "cells": [
  {
   "cell_type": "code",
   "execution_count": 70,
   "metadata": {},
   "outputs": [
    {
     "name": "stdout",
     "output_type": "stream",
     "text": [
      "Assignment\n",
      "Programming_Assingment\n",
      "Programming_Assingment2.docx\n",
      "fname= Programming_Assingment2_1.docx\n",
      "fname= Programming_Assingment2_2.docx\n"
     ]
    }
   ],
   "source": [
    "# Automate following download task \n",
    "# 1.Download all of the python assignment files for ineuron dashboard\n",
    "# 2.if file name is assignment__* then move the files to assignment folder \n",
    "# (dont hard code 'assignment' , take common term from file name and create folder with that name)\n",
    "# 3. store the file in the respective folder.\n",
    "# 4. if filename is repeating then name the file as <filename>[1][1],<filename>[1][2], and goes on\n",
    "# store files in the respective folders\n",
    "\n",
    "import os\n",
    "import re;\n",
    "\n",
    "# locate the dowload directory where files should be stored\n",
    "os.chdir(\"D:\\downloads\")  \n",
    "\n",
    "dpath = os.getcwd()\n",
    "\n",
    "def isDirAvailable(dname):\n",
    "    if os.path.isdir(dname+\"\\\\\"+i):\n",
    "        return True        \n",
    "    return False    \n",
    "\n",
    "def getDName(filename):\n",
    "    p = re.compile(\"[a-zA-z_]+\")\n",
    "    m = p.match(filename)\n",
    "    return m.group()\n",
    "\n",
    "def getFilenameSuffix(fpath,filename):\n",
    "    a,suf= filename.split(\".\")\n",
    "    x = 1\n",
    "    isNameExists=True\n",
    "    while isNameExists :\n",
    "        fname  = a+\"_\"+str(x)+\".\"+suf\n",
    "        print(\"fname=\",fname)\n",
    "        if os.path.exists(fpath+\"//\"+fname):\n",
    "            x=x+1\n",
    "        else:\n",
    "            isNameExists = False\n",
    "    return fname\n",
    "\n",
    "for i in os.listdir(dpath):\n",
    "    filename = dpath+\"\\\\\"+i\n",
    "    print(i)\n",
    "    if os.path.isfile(filename):\n",
    "        dname = getDName(i)        \n",
    "        if dname[len(dname)-1] == \"_\":\n",
    "            dname = dname[:len(dname)-1]\n",
    "            \n",
    "        if os.path.exists(dname) !=True:\n",
    "            os.mkdir(dname)\n",
    "        \n",
    "        if os.path.exists(dname+\"\\\\\"+i):\n",
    "            fname = getFilenameSuffix(dname,i)\n",
    "            i = fname\n",
    "        \n",
    "        os.rename(filename,dname+\"\\\\\"+i)           \n",
    "        "
   ]
  },
  {
   "cell_type": "code",
   "execution_count": null,
   "metadata": {},
   "outputs": [],
   "source": []
  }
 ],
 "metadata": {
  "kernelspec": {
   "display_name": "Python 3",
   "language": "python",
   "name": "python3"
  },
  "language_info": {
   "codemirror_mode": {
    "name": "ipython",
    "version": 3
   },
   "file_extension": ".py",
   "mimetype": "text/x-python",
   "name": "python",
   "nbconvert_exporter": "python",
   "pygments_lexer": "ipython3",
   "version": "3.8.5"
  }
 },
 "nbformat": 4,
 "nbformat_minor": 4
}
