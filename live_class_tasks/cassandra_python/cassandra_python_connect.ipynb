{
 "cells": [
  {
   "cell_type": "code",
   "execution_count": 7,
   "metadata": {},
   "outputs": [],
   "source": [
    "from cassandra.cluster import Cluster\n",
    "from cassandra.auth import PlainTextAuthProvider\n",
    "import logging\n",
    "#To connect with cassandra based on cluster_type\n",
    "# default cluster_type = 'local' \n",
    "# cloud(datastaxAstra) cluster_type='cloud'\n",
    "class CassandraDB:\n",
    "     \n",
    "    def __init__(self,clusterType='local'):     \n",
    "        self.__clusterType = clusterType\n",
    "        self.__logger = logging.basicConfig(filename = 'D:\\\\ineuron\\\\Full-Stack-Data-Science\\\\live_class_tasks\\\\cassandra_python\\\\dbCassandra.log' , level = logging.INFO , format = '%(asctime)s %(name)s %(levelname)s %(message)s')\n",
    "        self.__logger = logging.getLogger(__name__)\n",
    "        self.__logger.info(\"Initializing CassandraDB.....\")\n",
    "        self.__createSession()\n",
    "        \n",
    "    def clusterType(self):\n",
    "        return self.__clusterType\n",
    "    \n",
    "    def session(self): \n",
    "        return self.__session\n",
    "    \n",
    "    def __createSession(self):\n",
    "        if(self.__clusterType == 'cloud'):\n",
    "            self.__logger.info(\"creating cloud datastaxAstra instance.....\")\n",
    "            cloud_config= {\n",
    "                    'secure_connect_bundle': 'D:\\ineuron\\secure-connect-ds-test.zip'\n",
    "                }\n",
    "            # used database administrator role\n",
    "            auth_provider = PlainTextAuthProvider('huDqqBxRTGmlKGELfxRCpzuK', 'TjSFd6joRX8FPAJ9JNG-ZGXhTWcmP9L6p+ssQu0-8R.OTB3klZr-OCpWbnfI+Kg2mbuBXH388tz5Ai1C8DKAy4M7e2qbT+ZghIpPQpsLW4DhRwYXs4.B.oUcWywMAwjU')\n",
    "            self.__cluster = Cluster(cloud=cloud_config, auth_provider=auth_provider)            \n",
    "            self.__logger.info(\"cluster instance for cloud datastaxAstra.....\")\n",
    "        else :\n",
    "            self.__logger.info(\"creating local instance.....\")\n",
    "            auth_provider = PlainTextAuthProvider(username='cassandra',password ='cassandra')\n",
    "            cas_contact_points = ['localhost']\n",
    "            self.__cluster = Cluster(cas_contact_points,auth_provider=auth_provider)\n",
    "            self.__logger.info(\"cluster instance created for local cassandra db.....\")        \n",
    "        self.__logger.info(\"Connecting cluster.....\")\n",
    "        self.__session = self.__cluster.connect()  \n",
    "        \n",
    "    def closeConnection(self):\n",
    "        self.__cluster.shutdown()\n",
    "        self.__logger.info(\"shutdown cluster instance.....\")"
   ]
  },
  {
   "cell_type": "code",
   "execution_count": 9,
   "metadata": {},
   "outputs": [
    {
     "name": "stdout",
     "output_type": "stream",
     "text": [
      "Row(id=1, age=28, email=None, height=160, name='Mohit Raghav')\n",
      "Row(id=3, age=25, email=None, height=142, name='aradhana')\n"
     ]
    }
   ],
   "source": [
    "db=CassandraDB('local')\n",
    "session = db.session()\n",
    "try:    \n",
    "    session.execute('use home;')\n",
    "    row = session.execute('select * from members;')\n",
    "    for i in row:\n",
    "        print(i)\n",
    "except Exception as e:\n",
    "    print(e)\n",
    "finally :\n",
    "    db.closeConnection()\n"
   ]
  },
  {
   "cell_type": "code",
   "execution_count": 10,
   "metadata": {},
   "outputs": [
    {
     "name": "stdout",
     "output_type": "stream",
     "text": [
      "Row(id=1, age=25, height=160, name='sweeta')\n"
     ]
    }
   ],
   "source": [
    "db=CassandraDB('cloud')\n",
    "session = db.session()\n",
    "try:    \n",
    "    session.execute('use datascience;')\n",
    "    row = session.execute('select * from members;')\n",
    "    for i in row:\n",
    "        print(i)\n",
    "except Exception as e:\n",
    "    print(e)\n",
    "finally :\n",
    "    db.closeConnection()"
   ]
  },
  {
   "cell_type": "code",
   "execution_count": null,
   "metadata": {},
   "outputs": [],
   "source": []
  }
 ],
 "metadata": {
  "kernelspec": {
   "display_name": "Python 3",
   "language": "python",
   "name": "python3"
  },
  "language_info": {
   "codemirror_mode": {
    "name": "ipython",
    "version": 3
   },
   "file_extension": ".py",
   "mimetype": "text/x-python",
   "name": "python",
   "nbconvert_exporter": "python",
   "pygments_lexer": "ipython3",
   "version": "3.8.5"
  }
 },
 "nbformat": 4,
 "nbformat_minor": 4
}
