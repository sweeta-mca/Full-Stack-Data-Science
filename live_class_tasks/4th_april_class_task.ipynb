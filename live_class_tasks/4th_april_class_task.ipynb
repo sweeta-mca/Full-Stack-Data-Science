{
 "cells": [
  {
   "cell_type": "code",
   "execution_count": null,
   "metadata": {},
   "outputs": [],
   "source": [
    "#1. create a logger in your code\n",
    "#2. create one function which can take any number of input as an argument and it will be able to return sum of it.\n",
    "#3.capture user input in log\n",
    "#4. give user instruction in log file\n",
    "#5. read a log file from python code and show all the log in console"
   ]
  },
  {
   "cell_type": "code",
   "execution_count": 80,
   "metadata": {},
   "outputs": [],
   "source": [
    "import logging as lg\n",
    "import os\n",
    "\n",
    "lg.basicConfig(filename =\"live_task.txt\",level =lg.INFO,format= \"%(asctime)s:%(levelname)s:%(message)s\")\n",
    "\n",
    "def getArgumentType(t):\n",
    "    a = str(type(t))\n",
    "    b = a.lstrip('<')\n",
    "    c = b.rstrip('\\'>')\n",
    "    itype = c.split('\\'')[1]  \n",
    "    return itype\n",
    "\n",
    "def summation(*args):\n",
    "    d={}\n",
    "    lg.info(\"Number of input arguments : %d\",len(args))\n",
    "    for i in args:        \n",
    "        if getArgumentType(i) in d.keys():\n",
    "            val = d.get(getArgumentType(i))            \n",
    "            val = val+i\n",
    "            d[getArgumentType(i)] = vals\n",
    "        else:\n",
    "            d[getArgumentType(i)] = i\n",
    "    lg.info(\"sums of input arguments based on types are \\n{}\".format(d))\n",
    "\n",
    "def printLogfileContent():\n",
    "    try:\n",
    "        filename = os.path.abspath(\"live_task.txt\")\n",
    "        f = open(filename,\"r\")\n",
    "        content = f.read()\n",
    "        print(content)\n",
    "    finally:\n",
    "        f.close()\n",
    "        \n",
    "        "
   ]
  },
  {
   "cell_type": "code",
   "execution_count": 89,
   "metadata": {},
   "outputs": [
    {
     "name": "stdout",
     "output_type": "stream",
     "text": [
      "2021-05-25 14:39:34,423:INFO:Number of input arguments : 11\n",
      "2021-05-25 14:39:34,424:INFO:sumsof input arguments based on types are \n",
      "{<class 'int'>: 17980, <class 'float'>: 543.0, <class 'str'>: 'helloworld'}\n",
      "2021-05-25 14:53:30,196:INFO:Number of input arguments : 11\n",
      "2021-05-25 14:53:50,815:INFO:Number of input arguments : 11\n",
      "2021-05-25 14:53:50,816:INFO:sums of input arguments based on types are \n",
      "{'int': 12, <class 'int'>: 7688, 'float': 45.6, <class 'float'>: 500.1, 'str': 'hello', <class 'str'>: 'helloworld'}\n",
      "2021-05-25 14:54:43,368:INFO:Number of input arguments : 11\n",
      "2021-05-25 14:54:43,372:INFO:sums of input arguments based on types are \n",
      "{'int': 12, <class 'int'>: 7688, 'float': 45.6, <class 'float'>: 500.1, 'str': 'hello', <class 'str'>: 'helloworld'}\n",
      "2021-05-25 14:55:39,998:INFO:Number of input arguments : 11\n",
      "2021-05-25 14:55:39,998:INFO:sums of input arguments based on types are \n",
      "{'int': 17980, 'float': 543.0, 'str': 'helloworld'}\n",
      "2021-05-25 15:02:32,573:INFO:Number of input arguments : 11\n",
      "2021-05-25 15:02:32,573:INFO:sums of input arguments based on types are \n",
      "{'int': 17980, 'float': 543.0, 'str': 'helloworld'}\n",
      "2021-05-25 15:02:48,307:INFO:Number of input arguments : 11\n",
      "2021-05-25 15:02:48,307:INFO:sums of input arguments based on types are \n",
      "{'int': 17980, 'float': 543.0, 'str': 'hello world'}\n",
      "\n"
     ]
    }
   ],
   "source": [
    "summation(12,34,45.6,56,42.9,4545,5657,7676,454.5,\"hello \",\"world\")\n",
    "printLogfileContent()"
   ]
  }
 ],
 "metadata": {
  "kernelspec": {
   "display_name": "Python 3",
   "language": "python",
   "name": "python3"
  },
  "language_info": {
   "codemirror_mode": {
    "name": "ipython",
    "version": 3
   },
   "file_extension": ".py",
   "mimetype": "text/x-python",
   "name": "python",
   "nbconvert_exporter": "python",
   "pygments_lexer": "ipython3",
   "version": "3.8.5"
  }
 },
 "nbformat": 4,
 "nbformat_minor": 4
}
