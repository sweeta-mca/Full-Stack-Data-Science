{
 "cells": [
  {
   "cell_type": "code",
   "execution_count": 46,
   "metadata": {
    "scrolled": true
   },
   "outputs": [
    {
     "name": "stdout",
     "output_type": "stream",
     "text": [
      "C:\\Users\\Admin\\Documents\\Python Scripts\\task1\\data1.txt\n",
      "C:\\Users\\Admin\\Documents\\Python Scripts\\task1\\data2.txt\n",
      "C:\\Users\\Admin\\Documents\\Python Scripts\\task1\\data3.txt\n",
      "C:\\Users\\Admin\\Documents\\Python Scripts\\task1\\data4.txt\n",
      "C:\\Users\\Admin\\Documents\\Python Scripts\\task1\\data5.txt\n",
      "C:\\Users\\Admin\\Documents\\Python Scripts\\task1\\data6.txt\n",
      "C:\\Users\\Admin\\Documents\\Python Scripts\\task1\\data7.txt\n",
      "C:\\Users\\Admin\\Documents\\Python Scripts\\task1\\data8.txt\n",
      "C:\\Users\\Admin\\Documents\\Python Scripts\\task1\\data9.txt\n",
      "C:\\Users\\Admin\\Documents\\Python Scripts\\task1\\data10.txt\n",
      "[[' bxzczxnb zxncbzxbcnzbx zxcbzxnbc nbnxz hello 1'], [' bxzczxnb zxncbzxbcnzbx zxcbzxnbc nbnxz hello 10 bxzczxnb zxncbzxbcnzbx zxcbzxnbc nbnxz hello 10 bxzczxnb zxncbzxbcnzbx zxcbzxnbc nbnxz hello 10 bxzczxnb zxncbzxbcnzbx zxcbzxnbc nbnxz hello 10 bxzczxnb zxncbzxbcnzbx zxcbzxnbc nbnxz hello 10 bxzczxnb zxncbzxbcnzbx zxcbzxnbc nbnxz hello 10 bxzczxnb zxncbzxbcnzbx zxcbzxnbc nbnxz hello 10 bxzczxnb zxncbzxbcnzbx zxcbzxnbc nbnxz hello 10 bxzczxnb zxncbzxbcnzbx zxcbzxnbc nbnxz hello 10 bxzczxnb zxncbzxbcnzbx zxcbzxnbc nbnxz hello 10'], [' bxzczxnb zxncbzxbcnzbx zxcbzxnbc nbnxz hello 2 bxzczxnb zxncbzxbcnzbx zxcbzxnbc nbnxz hello 2'], [' bxzczxnb zxncbzxbcnzbx zxcbzxnbc nbnxz hello 3 bxzczxnb zxncbzxbcnzbx zxcbzxnbc nbnxz hello 3 bxzczxnb zxncbzxbcnzbx zxcbzxnbc nbnxz hello 3'], [' bxzczxnb zxncbzxbcnzbx zxcbzxnbc nbnxz hello 4 bxzczxnb zxncbzxbcnzbx zxcbzxnbc nbnxz hello 4 bxzczxnb zxncbzxbcnzbx zxcbzxnbc nbnxz hello 4 bxzczxnb zxncbzxbcnzbx zxcbzxnbc nbnxz hello 4'], [' bxzczxnb zxncbzxbcnzbx zxcbzxnbc nbnxz hello 5 bxzczxnb zxncbzxbcnzbx zxcbzxnbc nbnxz hello 5 bxzczxnb zxncbzxbcnzbx zxcbzxnbc nbnxz hello 5 bxzczxnb zxncbzxbcnzbx zxcbzxnbc nbnxz hello 5 bxzczxnb zxncbzxbcnzbx zxcbzxnbc nbnxz hello 5'], [' bxzczxnb zxncbzxbcnzbx zxcbzxnbc nbnxz hello 6 bxzczxnb zxncbzxbcnzbx zxcbzxnbc nbnxz hello 6 bxzczxnb zxncbzxbcnzbx zxcbzxnbc nbnxz hello 6 bxzczxnb zxncbzxbcnzbx zxcbzxnbc nbnxz hello 6 bxzczxnb zxncbzxbcnzbx zxcbzxnbc nbnxz hello 6 bxzczxnb zxncbzxbcnzbx zxcbzxnbc nbnxz hello 6'], [' bxzczxnb zxncbzxbcnzbx zxcbzxnbc nbnxz hello 7 bxzczxnb zxncbzxbcnzbx zxcbzxnbc nbnxz hello 7 bxzczxnb zxncbzxbcnzbx zxcbzxnbc nbnxz hello 7 bxzczxnb zxncbzxbcnzbx zxcbzxnbc nbnxz hello 7 bxzczxnb zxncbzxbcnzbx zxcbzxnbc nbnxz hello 7 bxzczxnb zxncbzxbcnzbx zxcbzxnbc nbnxz hello 7 bxzczxnb zxncbzxbcnzbx zxcbzxnbc nbnxz hello 7'], [' bxzczxnb zxncbzxbcnzbx zxcbzxnbc nbnxz hello 8 bxzczxnb zxncbzxbcnzbx zxcbzxnbc nbnxz hello 8 bxzczxnb zxncbzxbcnzbx zxcbzxnbc nbnxz hello 8 bxzczxnb zxncbzxbcnzbx zxcbzxnbc nbnxz hello 8 bxzczxnb zxncbzxbcnzbx zxcbzxnbc nbnxz hello 8 bxzczxnb zxncbzxbcnzbx zxcbzxnbc nbnxz hello 8 bxzczxnb zxncbzxbcnzbx zxcbzxnbc nbnxz hello 8 bxzczxnb zxncbzxbcnzbx zxcbzxnbc nbnxz hello 8'], [' bxzczxnb zxncbzxbcnzbx zxcbzxnbc nbnxz hello 9 bxzczxnb zxncbzxbcnzbx zxcbzxnbc nbnxz hello 9 bxzczxnb zxncbzxbcnzbx zxcbzxnbc nbnxz hello 9 bxzczxnb zxncbzxbcnzbx zxcbzxnbc nbnxz hello 9 bxzczxnb zxncbzxbcnzbx zxcbzxnbc nbnxz hello 9 bxzczxnb zxncbzxbcnzbx zxcbzxnbc nbnxz hello 9 bxzczxnb zxncbzxbcnzbx zxcbzxnbc nbnxz hello 9 bxzczxnb zxncbzxbcnzbx zxcbzxnbc nbnxz hello 9 bxzczxnb zxncbzxbcnzbx zxcbzxnbc nbnxz hello 9']]\n",
      "C:\\Users\\Admin\\Documents\\Python Scripts//task1//data1.txt\n",
      "C:\\Users\\Admin\\Documents\\Python Scripts//datas//data1.txt\n",
      "C:\\Users\\Admin\\Documents\\Python Scripts//task1//data10.txt\n",
      "C:\\Users\\Admin\\Documents\\Python Scripts//datas//data10.txt\n",
      "C:\\Users\\Admin\\Documents\\Python Scripts//task1//data2.txt\n",
      "C:\\Users\\Admin\\Documents\\Python Scripts//datas//data2.txt\n",
      "C:\\Users\\Admin\\Documents\\Python Scripts//task1//data3.txt\n",
      "C:\\Users\\Admin\\Documents\\Python Scripts//datas//data3.txt\n",
      "C:\\Users\\Admin\\Documents\\Python Scripts//task1//data4.txt\n",
      "C:\\Users\\Admin\\Documents\\Python Scripts//datas//data4.txt\n",
      "C:\\Users\\Admin\\Documents\\Python Scripts//task1//data5.txt\n",
      "C:\\Users\\Admin\\Documents\\Python Scripts//datas//data5.txt\n",
      "C:\\Users\\Admin\\Documents\\Python Scripts//task1//data6.txt\n",
      "C:\\Users\\Admin\\Documents\\Python Scripts//datas//data6.txt\n",
      "C:\\Users\\Admin\\Documents\\Python Scripts//task1//data7.txt\n",
      "C:\\Users\\Admin\\Documents\\Python Scripts//datas//data7.txt\n",
      "C:\\Users\\Admin\\Documents\\Python Scripts//task1//data8.txt\n",
      "C:\\Users\\Admin\\Documents\\Python Scripts//datas//data8.txt\n",
      "C:\\Users\\Admin\\Documents\\Python Scripts//task1//data9.txt\n",
      "C:\\Users\\Admin\\Documents\\Python Scripts//datas//data9.txt\n"
     ]
    }
   ],
   "source": [
    "import os\n",
    "\n",
    "# 1. create a directory\n",
    "os.mkdir(\"task1\")\n",
    "os.chdir(\"task1\")\n",
    "source = os.path.abspath(os.curdir)\n",
    "\n",
    "# 2. create 10 txt files and write  some data in all txt files at a time\n",
    "for i in range(1,11):\n",
    "    try:\n",
    "        name = source+\"\\\\data{}\".format(i)+\".txt\"\n",
    "        f = open(name,\"x\")\n",
    "        data = \" bxzczxnb zxncbzxbcnzbx zxcbzxnbc nbnxz hello {}\".format(i) * i\n",
    "        f.write(data)        \n",
    "    finally:\n",
    "        f.close()    \n",
    "# 3. read all the data from this dir or files print in console\n",
    "l=[];\n",
    "for fn in os.listdir(source) :\n",
    "    filepath = os.path.abspath(fn)    \n",
    "    if os.path.isfile(filepath) and fn.split('.')[1] == 'txt':\n",
    "        try:\n",
    "            f = open(filepath,\"r\")\n",
    "            content = f.readlines()\n",
    "# 4. Hold all data in a list\n",
    "            l.append(content)\n",
    "        finally:\n",
    "            f.close()\n",
    "print(l)\n",
    "# 5. write all the data in a new file from list\n",
    "try:\n",
    "    f = open(source+\"\\\\newData.txt\",\"w\")\n",
    "    content = ''.join(map(str,l))\n",
    "    f.write(content)\n",
    "finally:\n",
    "    f.close() \n",
    "\n",
    "os.chdir(\"..\")\n",
    "os.mkdir(\"datas\")\n",
    "source = os.path.abspath(os.curdir)+\"//task1//\"\n",
    "destination = os.path.abspath(os.curdir)+\"//datas//\"\n",
    "for fn in os.listdir(source):\n",
    "    names = fn.split(\".\")\n",
    "    if os.path.isfile(source+fn) :\n",
    "        if(len(names)>0 and names[1]==\"txt\" and names[0] !=\"newData\"):\n",
    "            print(source+fn)\n",
    "            print(destination+fn)\n",
    "            os.rename(source+fn,destination+fn)"
   ]
  },
  {
   "cell_type": "code",
   "execution_count": null,
   "metadata": {},
   "outputs": [],
   "source": []
  }
 ],
 "metadata": {
  "kernelspec": {
   "display_name": "Python 3",
   "language": "python",
   "name": "python3"
  },
  "language_info": {
   "codemirror_mode": {
    "name": "ipython",
    "version": 3
   },
   "file_extension": ".py",
   "mimetype": "text/x-python",
   "name": "python",
   "nbconvert_exporter": "python",
   "pygments_lexer": "ipython3",
   "version": "3.8.5"
  }
 },
 "nbformat": 4,
 "nbformat_minor": 4
}
